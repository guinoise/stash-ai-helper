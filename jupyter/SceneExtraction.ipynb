version https://git-lfs.github.com/spec/v1
oid sha256:9b041a93ec0c075790131b2708f1445406c8f6f5e421d8f7354b0924ed09ef51
size 12196
