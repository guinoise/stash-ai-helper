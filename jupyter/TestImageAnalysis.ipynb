{
 "cells": [
  {
   "cell_type": "code",
   "execution_count": null,
   "id": "8034b9c5-872a-401d-928a-3c8111c29fb1",
   "metadata": {},
   "outputs": [],
   "source": [
    "%load_ext autoreload\n",
    "%autoreload 2\n",
    "import sys\n",
    "import pathlib\n",
    "main_path= pathlib.Path('..')\n",
    "print (main_path.resolve())\n",
    "sys.path.insert(0, str(main_path.resolve()))"
   ]
  },
  {
   "cell_type": "code",
   "execution_count": null,
   "id": "63c62b53-d241-4905-bca2-3746fb78ccd6",
   "metadata": {},
   "outputs": [],
   "source": [
    "import logging\n",
    "logger= logging.getLogger()\n",
    "logger.setLevel(logging.DEBUG)"
   ]
  },
  {
   "cell_type": "code",
   "execution_count": null,
   "id": "5ee634a6-b08a-410b-936e-6f18d9dffc98",
   "metadata": {},
   "outputs": [],
   "source": [
    "import IPython.core.display as display"
   ]
  },
  {
   "cell_type": "code",
   "execution_count": null,
   "id": "70b0fdd3-9601-4318-8933-f7ff79961eea",
   "metadata": {},
   "outputs": [],
   "source": [
    "import stash_ai.config as stash_ai_config\n",
    "from stash_ai.config import config\n",
    "stash_ai_config.config_file= main_path.joinpath('config.json')\n",
    "print(stash_ai_config.config_file.resolve())\n",
    "stash_ai_config.load_config()\n",
    "config.base_dir\n",
    "from stash_ai.db import get_session"
   ]
  },
  {
   "cell_type": "code",
   "execution_count": null,
   "id": "9f641ca0-55ad-411d-877f-359828de3ced",
   "metadata": {},
   "outputs": [],
   "source": [
    "from utils.performer import get_performer_stash_image, load_performer, get_unknown_performer_image\n",
    "import shutil"
   ]
  },
  {
   "cell_type": "code",
   "execution_count": null,
   "id": "27164746-0d4a-441a-a4f3-9e69eda57b0b",
   "metadata": {},
   "outputs": [],
   "source": [
    "from PIL import Image\n",
    "from deepface import DeepFace\n",
    "import pandas as pd\n",
    "import numpy as np\n",
    "import pathlib\n",
    "from matplotlib import pyplot as plt, image\n",
    "import string\n",
    "from dataclasses import dataclass, field\n",
    "from typing import List, Dict\n",
    "import cv2\n",
    "import matplotlib.patches as patches\n",
    "import json\n",
    "from imagehash import phash\n",
    "import math\n",
    "%matplotlib inline \n"
   ]
  },
  {
   "cell_type": "code",
   "execution_count": null,
   "id": "d68b752f-cdb3-466b-a806-805fbfc808a3",
   "metadata": {},
   "outputs": [],
   "source": [
    "safechars = string.ascii_lowercase + string.ascii_uppercase + string.digits + '.-_'\n",
    "def to_safechars(input: str) -> str:\n",
    "    return ''.join([c for c in input if c in safechars])"
   ]
  },
  {
   "cell_type": "code",
   "execution_count": null,
   "id": "94158028-9dba-48c9-ba28-789d7ff6335d",
   "metadata": {},
   "outputs": [],
   "source": [
    "config.data_dir"
   ]
  },
  {
   "cell_type": "code",
   "execution_count": null,
   "id": "ff9c66ae-df79-4f0f-a7aa-a5dbdcee28b0",
   "metadata": {},
   "outputs": [],
   "source": [
    "from stash_ai.model import Performer\n",
    "from sqlalchemy import select\n",
    "stmt = select(Performer)\n",
    "with get_session() as session:\n",
    "    results= session.execute(stmt)\n",
    "    for o in results:\n",
    "        print(o)"
   ]
  },
  {
   "cell_type": "code",
   "execution_count": null,
   "id": "32a87700-873f-4a31-800a-6ba49d905db7",
   "metadata": {},
   "outputs": [],
   "source": [
    "from stash_ai.model import Performer\n",
    "\n",
    "with get_session() as session:\n",
    "    performer= session.get(Performer, 1)\n",
    "    print(performer)\n"
   ]
  },
  {
   "cell_type": "code",
   "execution_count": null,
   "id": "54bf13e6-2ec5-4979-8f51-b3493a28cfb3",
   "metadata": {},
   "outputs": [],
   "source": [
    "scene_id= 1659\n",
    "scene_id= 1\n",
    "#scene_id= 241\n",
    "scene= None\n",
    "html= None\n",
    "total_frames= 0\n",
    "frames_per_seconds= 0\n",
    "duration= 0\n",
    "url= None\n",
    "performers_images= []\n",
    "html= \"\"\n",
    "scene= config.stash_interface.find_scene(scene_id)\n",
    "if scene:\n",
    "    url= scene.get(\"paths\",{}).get(\"stream\")\n",
    "    html= f\"\"\"\n",
    "    <h1>{scene.get('title')}</h1>\n",
    "    <p>{scene.get('details')}</p>\n",
    "    \"\"\"\n",
    "    for file_info in scene.get('files'):\n",
    "        frames_per_seconds= file_info.get('frame_rate', 0)\n",
    "        duration= file_info.get('duration', 0)\n",
    "        total_frames= math.ceil(file_info.get('duration', 0) * file_info.get('frame_rate', 0))\n",
    "        html+=f\"\"\"\n",
    "        <p>Filename {file_info.get('basename')} duration: {file_info.get('duration')} seconds. Frame per seconds : {file_info.get('frame_rate')}. Total frames : {total_frames}</p>\n",
    "        \"\"\"\n",
    "    for performer_data in scene.get('performers', []):\n",
    "        performer_id= performer_data.get('id')\n",
    "        logger.info(f\"fetch_scene_from_stash Performer {performer_id}\")\n",
    "        if performer_id:\n",
    "            with get_session() as session:\n",
    "                performer= load_performer(performer_id, session)\n",
    "                performer_img= None\n",
    "                \n",
    "                if performer is not None:\n",
    "                    performer_img= get_performer_stash_image(performer)\n",
    "                    performer_text= f\"{performer.name} [{performer.id}]\"\n",
    "                else:\n",
    "                    performer_text= f\"Not found [{performer_id}]\"\n",
    "                \n",
    "                if performer_img is None:\n",
    "                    performer_img= get_unknown_performer_image()\n",
    "                \n",
    "                performers_images.append((performer_img, performer_text))\n",
    "                session.commit()\n",
    "else:\n",
    "    print(\"Unable to load scene\")\n"
   ]
  },
  {
   "cell_type": "code",
   "execution_count": null,
   "id": "ba7d9b60-c6df-4de2-9700-f0ea91c8353b",
   "metadata": {},
   "outputs": [],
   "source": [
    "#print(json.dumps(scene, indent=2))\n",
    "display.display(display.JSON(scene))"
   ]
  },
  {
   "cell_type": "code",
   "execution_count": null,
   "id": "390392e8-c73b-490b-a979-fa1c9c257ebe",
   "metadata": {},
   "outputs": [],
   "source": [
    "print(f\"scene_id {scene_id}, url {url}, duration {duration}, total_frames {total_frames}, frames_per_seconds {frames_per_seconds} performers_images len:{len(performers_images)}\")\n",
    "display.display(display.HTML(html))\n"
   ]
  },
  {
   "cell_type": "code",
   "execution_count": null,
   "id": "56630470-8474-489b-b40d-d8514d98affd",
   "metadata": {},
   "outputs": [],
   "source": [
    "from tqdm import tqdm\n",
    "import gradio as gr\n",
    "import imagehash"
   ]
  },
  {
   "cell_type": "code",
   "execution_count": null,
   "id": "07985611-1715-4452-af21-272d01e971cf",
   "metadata": {},
   "outputs": [],
   "source": [
    "def hash_distance(left_hash, right_hash):\n",
    "    \"\"\"Compute the hamming distance between two hashes\"\"\"\n",
    "    if len(left_hash) != len(right_hash):\n",
    "        raise ValueError('Hamming distance requires two strings of equal length')\n",
    "\n",
    "    return sum(map(lambda x: 0 if x[0] == x[1] else 1, zip(left_hash, right_hash)))\n",
    "\n",
    "\n",
    "def hashes_are_similar(left_hash, right_hash, tolerance=6):\n",
    "    \"\"\"\n",
    "    Return True if the hamming distance between\n",
    "    the image hashes are less than the given tolerance.\n",
    "    \"\"\"\n",
    "    return (left_hash - right_hash) <= tolerance\n",
    "    return hash_distance(left_hash, right_hash) <= tolerance"
   ]
  },
  {
   "cell_type": "code",
   "execution_count": null,
   "id": "83db0550-98a9-463d-9706-05d83817291b",
   "metadata": {},
   "outputs": [],
   "source": [
    "video_url= url\n",
    "video_duration= duration\n",
    "fps= frames_per_seconds\n",
    "extract_n_images_per_seconds= 0.2\n",
    "number_of_samples=10\n",
    "progress= None\n",
    "#def extract_video_images(video_url, video_duration: float, fps: float, extract_n_images_per_seconds: float, number_of_samples, progress= None):\n",
    "logger.info(f\"extract_images URL: {video_url} Img per second : {extract_n_images_per_seconds} FPS: {fps} \")\n",
    "images= {}\n",
    "nb_frames= math.floor(video_duration*fps)\n",
    "\n",
    "if progress is not None:\n",
    "    progress(0, desc=\"Extracting...\", total=nb_frames, unit=\"frame\")\n",
    "else:\n",
    "    p= tqdm(desc=\"Extracting...\", total=nb_frames, unit=\"frame\")\n",
    "    progress= p.update\n",
    "\n",
    "extract_directory= config.data_dir.joinpath('scene_extraction').joinpath(f\"extracted_images_{scene_id}\")\n",
    "extract_directory_512= config.data_dir.joinpath('scene_extraction').joinpath(f\"extracted_images_{scene_id}_512\")\n",
    "logger.info(f\"extract_images: {extract_directory.resolve()}\")\n",
    "\n",
    "for d in [extract_directory , extract_directory_512]:\n",
    "    if d.exists():\n",
    "        shutil.rmtree(d)\n",
    "    d.mkdir(parents=True)\n",
    "\n",
    "if video_url is None:\n",
    "    gr.Warning(\"Url is empty, could not extract.\")\n",
    "else:\n",
    "    nb_extracted= 0\n",
    "    frame= 0\n",
    "    try:\n",
    "        logger.info(f\"extract_images Open VideoCapture {video_url}\")\n",
    "        cap= cv2.VideoCapture(video_url)\n",
    "        success= True\n",
    "        while success:\n",
    "            success, image= cap.read()\n",
    "            if success:\n",
    "                #h= imagehash.dhash(Image.fromarray(image), hash_size=8)\n",
    "                pImg= Image.fromarray(cv2.cvtColor(image, cv2.COLOR_BGR2RGB))\n",
    "                h= imagehash.phash(pImg)\n",
    "                frame+= 1\n",
    "                if frame % 500 == 0:\n",
    "                    logger.debug(f\"Image {nb_extracted} frame {frame} of {nb_frames}\")\n",
    "                if progress is not None:\n",
    "                    #progress(frame/nb_frames)\n",
    "                    progress()\n",
    "                # if frame == 500:\n",
    "                #     break\n",
    "                for oh in images.keys():\n",
    "                    if hashes_are_similar(h, oh, 20):\n",
    "                        break\n",
    "                else:\n",
    "                    #logger.info(f\"frame {frame} hash {h} {type(h)}\")\n",
    "                    #image_path= extract_directory.joinpath(f\"{nb_extracted:010}.jpg\")\n",
    "                    image_path= extract_directory.joinpath(f\"{h}.jpg\")\n",
    "                    if nb_extracted % 10 == 0:\n",
    "                        logger.info(f\"{image_path.name} : {pImg.size}\")\n",
    "                    pImg.save(image_path)\n",
    "                    pImg.thumbnail((512,512))\n",
    "                    image_path= extract_directory_512.joinpath(f\"{h}.jpg\")\n",
    "                    if nb_extracted % 10 == 0:\n",
    "                        logger.debug(f\"{image_path.name} thumbnail: {pImg.size}\")\n",
    "                    pImg.save(image_path)\n",
    "                    \n",
    "                    nb_extracted+= 1\n",
    "                    images[h]= image_path\n",
    "                    \n",
    "\n",
    "    except Exception as e:\n",
    "        logger.error(f\"extract_images Error extraction {video_url} : {e!s}\")\n",
    "        logger.exception(e)\n",
    "    logger.info(f\"extract_images Extracted {nb_extracted} / {frame}\")\n",
    "print(f\"{len(images)} images\")"
   ]
  }
 ],
 "metadata": {
  "kernelspec": {
   "display_name": "Python 3 (ipykernel)",
   "language": "python",
   "name": "python3"
  },
  "language_info": {
   "codemirror_mode": {
    "name": "ipython",
    "version": 3
   },
   "file_extension": ".py",
   "mimetype": "text/x-python",
   "name": "python",
   "nbconvert_exporter": "python",
   "pygments_lexer": "ipython3",
   "version": "3.12.8"
  }
 },
 "nbformat": 4,
 "nbformat_minor": 5
}
