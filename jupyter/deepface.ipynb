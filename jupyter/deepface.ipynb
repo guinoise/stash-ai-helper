{
 "cells": [
  {
   "cell_type": "code",
   "execution_count": null,
   "id": "79cd48b7-3557-4bb0-bcf4-e96e3ce84724",
   "metadata": {},
   "outputs": [],
   "source": [
    "%matplotlib inline \n",
    "from PIL import Image\n",
    "from deepface import DeepFace\n",
    "import pandas as pd\n",
    "import numpy as np\n",
    "import pathlib\n",
    "from IPython.display import display\n",
    "from matplotlib import pyplot as plt"
   ]
  },
  {
   "cell_type": "code",
   "execution_count": null,
   "id": "f79735ef-082f-4595-b38d-f965ab94ac46",
   "metadata": {},
   "outputs": [],
   "source": [
    "image_path= pathlib.Path('..').joinpath('local_assets/performer_48/f3f3c868-8bda-4789-ad59-349057307acb')\n",
    "image_path.resolve()"
   ]
  },
  {
   "cell_type": "code",
   "execution_count": null,
   "id": "7141b8f9-c372-48e9-aff6-ee702051f853",
   "metadata": {},
   "outputs": [],
   "source": [
    "for f in image_path.parent.iterdir():\n",
    "    if f.is_file() and f.suffix == \"\":\n",
    "        print (f)"
   ]
  },
  {
   "cell_type": "code",
   "execution_count": null,
   "id": "6068d476-6fc3-4575-92de-41d10af2c03f",
   "metadata": {},
   "outputs": [],
   "source": [
    "pil_img= Image.open(image_path)\n",
    "thumb= Image.open(image_path)\n",
    "thumb.thumbnail((150,150))\n",
    "np_img= np.array(pil_img)\n",
    "thumb"
   ]
  },
  {
   "cell_type": "code",
   "execution_count": null,
   "id": "065eb211-0124-4b0c-8afd-3c6923ffe61f",
   "metadata": {},
   "outputs": [],
   "source": [
    "plt.imshow(np_img)"
   ]
  },
  {
   "cell_type": "code",
   "execution_count": null,
   "id": "a352be6a-cfdb-4adb-ba11-0c17493b8163",
   "metadata": {},
   "outputs": [],
   "source": [
    " analysis= DeepFace.analyze(np_img, actions=['age', 'gender', 'race', 'emotion'], enforce_detection=False) "
   ]
  },
  {
   "cell_type": "code",
   "execution_count": null,
   "id": "add95d50-9843-4828-98de-f1b19ab7ec8f",
   "metadata": {},
   "outputs": [],
   "source": [
    "analysis"
   ]
  },
  {
   "cell_type": "code",
   "execution_count": null,
   "id": "f61e310b-0f7a-4f05-8a47-5ff4a9afe300",
   "metadata": {},
   "outputs": [],
   "source": [
    "df = pd.DataFrame(analysis[0])\n",
    "df"
   ]
  },
  {
   "cell_type": "code",
   "execution_count": null,
   "id": "45340471-214f-47e4-a691-dfd05c8cefc7",
   "metadata": {},
   "outputs": [],
   "source": [
    "category=\"emotion\"\n",
    "df = pd.DataFrame(analysis[0])\n",
    "df[category].plot(kind='line', figsize = (9, 5), title = category.capitalize(), legend=True)"
   ]
  },
  {
   "cell_type": "code",
   "execution_count": null,
   "id": "3b2e0ac6-4ae5-4c79-93ee-e0957057aec8",
   "metadata": {},
   "outputs": [],
   "source": [
    "category=\"race\"\n",
    "df = pd.DataFrame(analysis[0])\n",
    "df[category].plot(kind='line', figsize = (9, 5), title = category.capitalize(), legend=True)"
   ]
  },
  {
   "cell_type": "code",
   "execution_count": null,
   "id": "b7ec6c25-fcf5-4a73-be0b-eee33965d2f0",
   "metadata": {},
   "outputs": [],
   "source": [
    "category=\"gender\"\n",
    "df = pd.DataFrame(analysis[0])\n",
    "df[category].plot(kind='barh', figsize = (9, 5), title = category.capitalize(), legend=True)"
   ]
  }
 ],
 "metadata": {
  "kernelspec": {
   "display_name": "Python 3 (ipykernel)",
   "language": "python",
   "name": "python3"
  },
  "language_info": {
   "codemirror_mode": {
    "name": "ipython",
    "version": 3
   },
   "file_extension": ".py",
   "mimetype": "text/x-python",
   "name": "python",
   "nbconvert_exporter": "python",
   "pygments_lexer": "ipython3",
   "version": "3.12.3"
  }
 },
 "nbformat": 4,
 "nbformat_minor": 5
}
