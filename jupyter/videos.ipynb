{
 "cells": [
  {
   "cell_type": "code",
   "execution_count": null,
   "id": "b54b64e2-0696-4aac-96cc-2e6c5d0e296d",
   "metadata": {},
   "outputs": [],
   "source": [
    "import string\n",
    "import pathlib\n",
    "import json\n",
    "import cv2\n"
   ]
  },
  {
   "cell_type": "code",
   "execution_count": null,
   "id": "95db248c-1b5e-4a9b-930c-c0ae8c5fffa4",
   "metadata": {},
   "outputs": [],
   "source": [
    "safechars = string.ascii_lowercase + string.ascii_uppercase + string.digits + '.-_'\n",
    "def to_safechars(input: str) -> str:\n",
    "    return ''.join([c for c in input if c in safechars])"
   ]
  },
  {
   "cell_type": "code",
   "execution_count": null,
   "id": "34eb2cab-9072-466a-b5ec-aad357d80dc8",
   "metadata": {},
   "outputs": [],
   "source": [
    "base_dir= pathlib.Path('.').parent\n",
    "assets_dir= base_dir.joinpath('local_assets')\n",
    "video_samples_dir= assets_dir.joinpath('video_samples')\n",
    "video_images_dir= assets_dir.joinpath('video_samples_frames')\n",
    "print(f\"base_dir : {base_dir.resolve()}\")\n",
    "print(f\"assets_dir : {assets_dir.resolve()}\")\n",
    "print(f\"video_samples_dir : {video_samples_dir.resolve()}\")\n",
    "print(f\"video_images_dir : {video_images_dir.resolve()}\")"
   ]
  },
  {
   "cell_type": "code",
   "execution_count": null,
   "id": "8cdff7a7-e26f-44f2-896a-c0d60fcb32a2",
   "metadata": {},
   "outputs": [],
   "source": [
    "data= []\n",
    "for f in video_samples_dir.iterdir():\n",
    "    if f.is_file():\n",
    "        data.append({\"video_file\":f, \"safe_name\": to_safechars(f.stem), \"frame_path\": video_images_dir.joinpath(to_safechars(f.stem))})\n",
    "print(data)"
   ]
  },
  {
   "cell_type": "code",
   "execution_count": null,
   "id": "63bfa327-2222-4590-b833-263ad308b22e",
   "metadata": {},
   "outputs": [],
   "source": [
    "for d in data:\n",
    "    frame_path= d[\"frame_path\"]\n",
    "    safe_name= d[\"safe_name\"]\n",
    "    if not frame_path.is_dir():\n",
    "        print(f\"Extract {safe_name}\")\n",
    "        frame_path.mkdir(parents=True)\n",
    "        cap= cv2.VideoCapture(d[\"video_file\"])\n",
    "        count= 0\n",
    "        frame= 0\n",
    "        success= True\n",
    "        while success:\n",
    "            success,image = cap.read()\n",
    "            if frame % (30*5) == 0:\n",
    "                count+=1\n",
    "                outfile= frame_path.joinpath(f\"{safe_name}_{count}.jpg\")\n",
    "                print(f\"Writing frame {frame} into {outfile.name}\")\n",
    "                cv2.imwrite(outfile, image)\n",
    "            frame+=1\n",
    "        print(f\"End of {safe_name}\")\n",
    "print(\"**COMPLETED**\")\n",
    "    "
   ]
  }
 ],
 "metadata": {
  "kernelspec": {
   "display_name": "Python 3 (ipykernel)",
   "language": "python",
   "name": "python3"
  },
  "language_info": {
   "codemirror_mode": {
    "name": "ipython",
    "version": 3
   },
   "file_extension": ".py",
   "mimetype": "text/x-python",
   "name": "python",
   "nbconvert_exporter": "python",
   "pygments_lexer": "ipython3",
   "version": "3.12.8"
  }
 },
 "nbformat": 4,
 "nbformat_minor": 5
}
