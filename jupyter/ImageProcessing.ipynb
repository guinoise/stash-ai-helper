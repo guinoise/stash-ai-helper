{
 "cells": [
  {
   "cell_type": "code",
   "execution_count": null,
   "id": "8034b9c5-872a-401d-928a-3c8111c29fb1",
   "metadata": {},
   "outputs": [],
   "source": [
    "%load_ext autoreload\n",
    "%autoreload 2\n",
    "import sys\n",
    "import pathlib\n",
    "main_path= pathlib.Path('..')\n",
    "print (main_path.resolve())\n",
    "sys.path.insert(0, str(main_path.resolve()))"
   ]
  },
  {
   "cell_type": "code",
   "execution_count": null,
   "id": "70b0fdd3-9601-4318-8933-f7ff79961eea",
   "metadata": {},
   "outputs": [],
   "source": [
    "import stash_ai.config as stash_ai_config\n",
    "\n",
    "stash_ai_config.config_file= main_path.joinpath('config.json')\n",
    "print(stash_ai_config.config_file.resolve())\n",
    "load_config()\n",
    "config"
   ]
  },
  {
   "cell_type": "code",
   "execution_count": null,
   "id": "27164746-0d4a-441a-a4f3-9e69eda57b0b",
   "metadata": {},
   "outputs": [],
   "source": [
    "from PIL import Image\n",
    "from deepface import DeepFace\n",
    "import pandas as pd\n",
    "import numpy as np\n",
    "import pathlib\n",
    "from IPython.display import display\n",
    "from matplotlib import pyplot as plt, image\n",
    "import string\n",
    "from dataclasses import dataclass, field\n",
    "from typing import List, Dict\n",
    "import cv2\n",
    "import matplotlib.patches as patches\n",
    "import json\n",
    "from imagehash import phash\n",
    "%matplotlib inline \n"
   ]
  },
  {
   "cell_type": "code",
   "execution_count": null,
   "id": "d68b752f-cdb3-466b-a806-805fbfc808a3",
   "metadata": {},
   "outputs": [],
   "source": [
    "safechars = string.ascii_lowercase + string.ascii_uppercase + string.digits + '.-_'\n",
    "def to_safechars(input: str) -> str:\n",
    "    return ''.join([c for c in input if c in safechars])"
   ]
  },
  {
   "cell_type": "code",
   "execution_count": null,
   "id": "c57ace90-9eec-4dbd-ac5f-51b9a68b2d3d",
   "metadata": {},
   "outputs": [],
   "source": [
    "from stash_ai.config import config"
   ]
  },
  {
   "cell_type": "code",
   "execution_count": null,
   "id": "94158028-9dba-48c9-ba28-789d7ff6335d",
   "metadata": {},
   "outputs": [],
   "source": [
    "config.data_dir"
   ]
  },
  {
   "cell_type": "code",
   "execution_count": null,
   "id": "05753805-f24b-4032-8bcc-55c179fe85b6",
   "metadata": {},
   "outputs": [],
   "source": [
    "base_dir= config.base_dir\n",
    "assets_dir= config.data_dir\n",
    "video_samples_dir= assets_dir.joinpath('video_samples')\n",
    "video_images_dir= assets_dir.joinpath('video_samples_frames')\n",
    "extracted_faces= assets_dir.joinpath('extracted_faces')\n",
    "if not extracted_faces.exists():\n",
    "    extracted_faces.mkdir(parents=True)\n",
    "print(f\"base_dir : {base_dir.resolve()}\")\n",
    "print(f\"assets_dir : {assets_dir.resolve()}\")\n",
    "print(f\"video_samples_dir : {video_samples_dir.resolve()}\")\n",
    "print(f\"video_images_dir : {video_images_dir.resolve()}\")"
   ]
  },
  {
   "cell_type": "code",
   "execution_count": null,
   "id": "43a06198-b13f-4522-a230-76173cff3042",
   "metadata": {},
   "outputs": [],
   "source": [
    "@dataclass\n",
    "class VideoConfig:\n",
    "    video_file: pathlib.Path\n",
    "    safe_name: str\n",
    "    frame_path: str\n",
    "    images: List[pathlib.Path]= field(default_factory=lambda: [])\n",
    "    def image_count(self):\n",
    "        return len(self.images)\n",
    "    def __repr__(self):\n",
    "        return f\"VideoConfig (Filename: {self.video_file.name} SafeName: {self.safe_name} Frame path: {self.frame_path.relative_to(assets_dir)} Image count {self.image_count()})\""
   ]
  },
  {
   "cell_type": "code",
   "execution_count": null,
   "id": "6d060a1b-1f2e-4837-bd82-89623c969288",
   "metadata": {},
   "outputs": [],
   "source": [
    "videos={}\n",
    "for f in video_samples_dir.iterdir():\n",
    "    if f.is_file():\n",
    "        video= VideoConfig(video_file=f, safe_name=to_safechars(f.stem), frame_path=video_images_dir.joinpath(to_safechars(f.stem)))\n",
    "        if video.frame_path.exists():\n",
    "            for f in video.frame_path.iterdir():\n",
    "                if f.is_file():\n",
    "                    video.images.append(f)\n",
    "        print(f\"{video.safe_name}\")\n",
    "        videos[video.safe_name]=video\n"
   ]
  },
  {
   "cell_type": "code",
   "execution_count": null,
   "id": "eac2e401-52b4-4848-af1c-c13529825352",
   "metadata": {},
   "outputs": [],
   "source": [
    "name=\"ClosingTimeSample\"\n",
    "video= videos[name]\n",
    "print(video)"
   ]
  },
  {
   "cell_type": "code",
   "execution_count": null,
   "id": "ba7d9b60-c6df-4de2-9700-f0ea91c8353b",
   "metadata": {},
   "outputs": [],
   "source": [
    "import utils.scene"
   ]
  },
  {
   "cell_type": "code",
   "execution_count": null,
   "id": "c43f81b8-7b24-4b76-b081-efe9b1165aa5",
   "metadata": {},
   "outputs": [],
   "source": [
    "detector= 'yolov8'\n",
    "face_expand= 30\n",
    "minimum_confidence= 0.8\n",
    "p= 'C:/Users/EricGuinois/VSCODE/stash-ai-helper/local_assets/video_samples_frames/ClosingTimeSample/ClosingTimeSample_12.jpg'\n",
    "f= pathlib.Path(p)\n",
    "img_metadata= ImageAnalysis(f, f.stem, True)\n",
    "metadata: ImageAnalysis= img_metadata\n",
    "results= DeepFace.analyze(metadata.get_numpy(), actions=[\"age\", \"gender\", \"race\"], enforce_detection=True, expand_percentage=face_expand)\n",
    "results\n",
    "\n"
   ]
  },
  {
   "cell_type": "code",
   "execution_count": null,
   "id": "eb03ffc8-a309-4be8-8a5c-7240a2392a00",
   "metadata": {},
   "outputs": [],
   "source": [
    "plt.imshow(metadata.get_numpy())\n",
    "plt.show()"
   ]
  },
  {
   "cell_type": "code",
   "execution_count": null,
   "id": "f755f98a-d9de-4fe9-8aec-34ddd9eeb529",
   "metadata": {},
   "outputs": [],
   "source": [
    "for face_result in results:\n",
    "    face= Face(x=face_result[\"region\"][\"x\"],\n",
    "               y= face_result[\"region\"][\"y\"],\n",
    "               w= face_result[\"region\"][\"w\"],\n",
    "               h= face_result[\"region\"][\"h\"],\n",
    "               age= face_result[\"age\"],\n",
    "               gender= face_result[\"dominant_gender\"],\n",
    "               gender_confidence=face_result[\"gender\"][face_result[\"dominant_gender\"]],\n",
    "               race=face_result[\"dominant_race\"],\n",
    "               race_confidence=face_result[\"race\"][face_result[\"dominant_race\"]],\n",
    "               confidence=face_result[\"face_confidence\"]\n",
    "               )\n",
    "    other_face: Face\n",
    "    for other_face in metadata.faces:\n",
    "        if face.overlap(other_face):\n",
    "            other_face.overlapping= True\n",
    "            face.overlapping= True\n",
    "    metadata.faces.append(face)\n",
    "    print(face)"
   ]
  },
  {
   "cell_type": "code",
   "execution_count": null,
   "id": "7b36ccb8-1d0a-4c7c-8aff-428b63690f97",
   "metadata": {},
   "outputs": [],
   "source": [
    "metadata.get_numpy_with_overlay().flags\n",
    "metadata.get_numpy_with_overlay().setflags(write=1)"
   ]
  },
  {
   "cell_type": "code",
   "execution_count": null,
   "id": "ed4c936f-6f38-47d2-8bfe-dc594ab85f24",
   "metadata": {},
   "outputs": [],
   "source": [
    "if metadata.sample:\n",
    "    for face in metadata.faces:\n",
    "        if face.overlapping:\n",
    "            color= 'red'\n",
    "            lw= 4\n",
    "        else:\n",
    "            color='green'\n",
    "            lw= 2\n",
    "        print(type(metadata.get_numpy_with_overlay()))\n",
    "        cv2.rectangle(metadata.get_numpy_with_overlay(), face.get_top_left().to_tuple(), face.get_bottom_right().to_tuple(), (36,255,12), 1)\n",
    "plt.imshow(metadata.get_numpy_with_overlay())\n",
    "plt.show()\n",
    "        #cv2.rectangle(metadata.get_numpy_with_overlay(), face.get_top_left(), face.get_bottom_right(), color, lw)\n",
    "        #cv2.putText(metadata.get_numpy_with_overlay(), f\"{face.confidence*100}%\", cv2.FONT_HERSHEY_SIMPLEX, 0.9, color, lw)\n",
    "        "
   ]
  },
  {
   "cell_type": "code",
   "execution_count": null,
   "id": "3811a733-b8cc-4f43-8f99-cb0fe09d3e83",
   "metadata": {},
   "outputs": [],
   "source": [
    "detector= 'yolov8'\n",
    "color='yellow'\n",
    "limits= []\n",
    "limits= [\"untagged\"]\n",
    "limits= [\"ClosingTimeSample\"]\n",
    "for video_name, video in videos.items():\n",
    "    if limits is not None and video_name not in limits:\n",
    "        continue\n",
    "    for index, image_path in enumerate(video.images):\n",
    "        print(f\"{index}: {image_path.name} : {image_path.resolve()}\")\n",
    "        image= Image.open(image_path)\n",
    "        img= np.asarray(image)\n",
    "        try:\n",
    "            faces= DeepFace.analyze(img, detector_backend=detector, enforce_detection=True, expand_percentage=30)\n",
    "            for face in faces:\n",
    "                x, y, width, height, left_eye, right_eye = face[\"region\"].values()\n",
    "                plt.gca().add_patch(patches.Rectangle((x,y), width, height, linewidth=2, edgecolor=color, facecolor='none'))\n",
    "                fs=8\n",
    "                plt.text(x+fs*1.5, y-fs*3, f\"{face[\"face_confidence\"]}\", color=color, backgroundcolor='black', fontsize=8) \n",
    "            plt.imshow(img)\n",
    "            plt.show()\n",
    "            for face in faces:\n",
    "                x, y, width, height, left_eye, right_eye = face[\"region\"].values()\n",
    "                face_img= img[y:y+height,x:x+width]\n",
    "                pimage= Image.fromarray(face_img)\n",
    "                h= phash(pimage)\n",
    "                face_path= extracted_faces.joinpath(f\"{h}.jpg\")\n",
    "                if face_path.exists():\n",
    "                    print(\"Duplicate\")\n",
    "                else:\n",
    "                    pimage.save(face_path)\n",
    "                metadata_path= extracted_faces.joinpath(f\"{h}.json\")\n",
    "                if not metadata_path.exists():\n",
    "                    with metadata_path.open('w') as f:\n",
    "                        json.dump(face, f, indent=2)\n",
    "                plt.imshow(face_img)\n",
    "                plt.show()\n",
    "                print(f\"Confidence {face[\"face_confidence\"]}, Age: {face[\"age\"]} yo, Gender: {face[\"dominant_gender\"]}, Race: {face[\"dominant_race\"]}, Emotion: {face[\"dominant_emotion\"]} phash {h}\")\n",
    "            \n",
    "        except ValueError:\n",
    "            plt.imshow(img)\n",
    "            plt.text(0,0,\"No face detected\", color=color, backgroundcolor='black', fontsize=8)\n",
    "            plt.show()\n",
    "        if index == -1:\n",
    "            break\n",
    "    "
   ]
  }
 ],
 "metadata": {
  "kernelspec": {
   "display_name": "Python 3 (ipykernel)",
   "language": "python",
   "name": "python3"
  },
  "language_info": {
   "codemirror_mode": {
    "name": "ipython",
    "version": 3
   },
   "file_extension": ".py",
   "mimetype": "text/x-python",
   "name": "python",
   "nbconvert_exporter": "python",
   "pygments_lexer": "ipython3",
   "version": "3.12.8"
  }
 },
 "nbformat": 4,
 "nbformat_minor": 5
}
