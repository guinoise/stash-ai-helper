{
 "cells": [
  {
   "cell_type": "code",
   "execution_count": null,
   "id": "d50326b9-c5bc-4854-9c74-758b78d778fd",
   "metadata": {},
   "outputs": [],
   "source": [
    "from huggingface_hub import hf_hub_download\n",
    "hf= hf_hub_download(repo_id='ai-forever/Real-ESRGAN', filename='RealESRGAN_x2.pth')\n",
    "print(hf)"
   ]
  },
  {
   "cell_type": "code",
   "execution_count": null,
   "id": "285098cc-d87c-470d-83f3-d3ac8c62d9ef",
   "metadata": {},
   "outputs": [],
   "source": [
    "im_path='/opt/stash/stash-ai-helper/local_assets/performer_611/d488a2b0-a2bf-4f07-94e0-a3b38c30353c.JPEG'\n"
   ]
  },
  {
   "cell_type": "code",
   "execution_count": null,
   "id": "b657da08-e167-434f-9d9c-3bf08fb9af1e",
   "metadata": {},
   "outputs": [],
   "source": [
    "import IPython.core.display as display\n",
    "from PIL import Image"
   ]
  },
  {
   "cell_type": "code",
   "execution_count": null,
   "id": "94687720-dfbf-4441-8010-5aaf0ab72e81",
   "metadata": {},
   "outputs": [],
   "source": [
    "im= Image.open(im_path)\n",
    "display.display(im)"
   ]
  },
  {
   "cell_type": "code",
   "execution_count": null,
   "id": "d328fcda-2b65-45c1-b5e6-cb755d25690b",
   "metadata": {},
   "outputs": [],
   "source": [
    "!pip install git+https://github.com/sberbank-ai/Real-ESRGAN.git\n",
    "!pip install nvidia-cudnn-cu12~=9.3"
   ]
  },
  {
   "cell_type": "code",
   "execution_count": null,
   "id": "c46435ef-7f00-42ab-9487-b992e020d463",
   "metadata": {},
   "outputs": [],
   "source": [
    "!pip install huggingface_hub==0.25"
   ]
  },
  {
   "cell_type": "code",
   "execution_count": null,
   "id": "6af4f975-ea9f-434e-ae4f-16daa3a1e74c",
   "metadata": {},
   "outputs": [],
   "source": [
    "import torch\n",
    "from PIL import Image\n",
    "import numpy as np\n",
    "from RealESRGAN import RealESRGAN\n",
    "\n",
    "device = torch.device('cuda' if torch.cuda.is_available() else 'cpu')\n",
    "\n",
    "model = RealESRGAN(device, scale=2)\n",
    "model.load_weights('weights/RealESRGAN_x4.pth', download=True)"
   ]
  },
  {
   "cell_type": "code",
   "execution_count": null,
   "id": "7b45ca43-398f-4909-9d22-1b22efd13198",
   "metadata": {},
   "outputs": [],
   "source": [
    "sr_image = model.predict(im)\n",
    "display.display(sr_image)"
   ]
  },
  {
   "cell_type": "code",
   "execution_count": null,
   "id": "a4d599d9-1006-49fa-a937-b7246ec87467",
   "metadata": {},
   "outputs": [],
   "source": [
    "from transformers import pipeline\n",
    "#upscaler= pipeline(\"image-to-image\", model='ai-forever/Real-ESRGAN', filename='RealESRGAN_x2.pth')\n",
    "from transformers import AutoModelForImageToImage\n",
    "#hf= hf_hub_download(repo_id='ai-forever/Real-ESRGAN', filename='RealESRGAN_x2.pth')\n",
    "ai= AutoModelForImageToImage.from_pretrained(pretrained_model_name_or_path=hf)\n"
   ]
  },
  {
   "cell_type": "code",
   "execution_count": null,
   "id": "422a6e28-b4c7-4a32-9efc-e7418941a367",
   "metadata": {},
   "outputs": [],
   "source": [
    "import tensorflow as tf\n",
    "from tensorflow import keras\n",
    "import torch"
   ]
  },
  {
   "cell_type": "code",
   "execution_count": null,
   "id": "39f1aee9-703c-45c3-9713-6958291f8e42",
   "metadata": {},
   "outputs": [],
   "source": [
    "# Install basicsr - https://github.com/xinntao/BasicSR\n",
    "# We use BasicSR for both training and inference\n",
    "!pip install basicsr\n",
    "\n",
    "# Install facexlib - https://github.com/xinntao/facexlib\n",
    "# We use face detection and face restoration helper in the facexlib package\n",
    "!pip install facexlib\n",
    "\n",
    "\n",
    "# If you want to enhance the background (non-face) regions with Real-ESRGAN,\n",
    "# you also need to install the realesrgan package\n",
    "!pip install realesrgan\n",
    "!pip install nvidia-cudnn-cu12~=9.3"
   ]
  },
  {
   "cell_type": "code",
   "execution_count": null,
   "id": "80a3694f-aba4-483f-81c6-41431ed8ea04",
   "metadata": {},
   "outputs": [],
   "source": [
    "!pip install -r ../requirements.txt"
   ]
  },
  {
   "cell_type": "code",
   "execution_count": null,
   "id": "81913009-4bcf-49bb-8b1e-54e96e71eace",
   "metadata": {},
   "outputs": [],
   "source": [
    "import sys\n",
    "import torchvision.transforms.functional as functional\n",
    "sys.modules[\"torchvision.transforms.functional_tensor\"] = functional\n",
    "from basicsr.archs.srvgg_arch import SRVGGNetCompact\n",
    "from realesrgan.utils import RealESRGANer\n",
    "\n",
    "sr_model = SRVGGNetCompact(num_in_ch=3, num_out_ch=3, num_feat=64, num_conv=32, upscale=4, act_type='prelu')\n",
    "half = True if torch.cuda.is_available() else False\n",
    "realesrganer = RealESRGANer(scale=4, model_path=hf, model=sr_model, tile=0, tile_pad=10, pre_pad=0, half=half)\n",
    "\n",
    "# Function to upscale image with RealESRGAN\n",
    "def upscale_image(image_path, output_path):\n",
    "    img = cv2.imread(image_path, cv2.IMREAD_UNCHANGED)\n",
    "    # Upscale the image with RealESRGAN\n",
    "    output, _ = realesrganer.enhance(img, outscale=4)\n",
    "    cv2.imwrite(output_path, output)\n",
    "    return output"
   ]
  },
  {
   "cell_type": "code",
   "execution_count": null,
   "id": "9cb4266e-3c9e-46e4-8e47-3d9d370ff088",
   "metadata": {},
   "outputs": [],
   "source": [
    "hr_image = tf.image.decode_image(tf.io.read_file(im_path))\n",
    "# If PNG, remove the alpha channel. The model only supports\n",
    "# images with 3 color channels.\n",
    "if hr_image.shape[-1] == 4:\n",
    "    hr_image = hr_image[...,:-1]\n",
    "hr_size = (tf.convert_to_tensor(hr_image.shape[:-1]) // 4) * 4\n",
    "hr_image = tf.image.crop_to_bounding_box(hr_image, 0, 0, hr_size[0], hr_size[1])\n",
    "hr_image = tf.cast(hr_image, tf.float32)    \n",
    "pre_img= tf.expand_dims(hr_image, 0)"
   ]
  },
  {
   "cell_type": "code",
   "execution_count": null,
   "id": "19622c0b-19a0-471b-bd9c-97df2b47f2a2",
   "metadata": {},
   "outputs": [],
   "source": [
    "type(pre_img)"
   ]
  },
  {
   "cell_type": "code",
   "execution_count": null,
   "id": "f51f7079-4d8a-43f8-a28b-292c78a6cc14",
   "metadata": {},
   "outputs": [],
   "source": [
    "!pip install tensorflow_hub"
   ]
  },
  {
   "cell_type": "code",
   "execution_count": null,
   "id": "a9581996-0120-41c3-ad71-f486ba0789d1",
   "metadata": {},
   "outputs": [],
   "source": [
    "def create_model():\n",
    "  model = tf.keras.models.Sequential([\n",
    "    keras.layers.Dense(512, activation='relu', input_shape=(784,)),\n",
    "    keras.layers.Dropout(0.2),\n",
    "    keras.layers.Dense(10)\n",
    "  ])\n",
    "\n",
    "  model.compile(optimizer='adam',\n",
    "                loss=tf.losses.SparseCategoricalCrossentropy(from_logits=True),\n",
    "                metrics=[tf.metrics.SparseCategoricalAccuracy()])\n",
    "\n",
    "  return model\n",
    "model = create_model()\n"
   ]
  },
  {
   "cell_type": "code",
   "execution_count": null,
   "id": "30982c0f-14fd-44d1-8c17-bcb85502481a",
   "metadata": {},
   "outputs": [],
   "source": [
    "#model.load_weights(hf)\n",
    "#print(hf)\n",
    "checkpoint= torch.load(hf)"
   ]
  },
  {
   "cell_type": "code",
   "execution_count": null,
   "id": "c94b5518-55a8-44f3-962c-3dc091b58ade",
   "metadata": {},
   "outputs": [],
   "source": [
    "checkpoint.eval()"
   ]
  }
 ],
 "metadata": {
  "kernelspec": {
   "display_name": "Python 3 (ipykernel)",
   "language": "python",
   "name": "python3"
  },
  "language_info": {
   "codemirror_mode": {
    "name": "ipython",
    "version": 3
   },
   "file_extension": ".py",
   "mimetype": "text/x-python",
   "name": "python",
   "nbconvert_exporter": "python",
   "pygments_lexer": "ipython3",
   "version": "3.12.3"
  }
 },
 "nbformat": 4,
 "nbformat_minor": 5
}
