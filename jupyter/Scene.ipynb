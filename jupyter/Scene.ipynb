{
 "cells": [
  {
   "cell_type": "code",
   "execution_count": null,
   "id": "2c55d589-73da-40e1-b600-daf298c4fef5",
   "metadata": {},
   "outputs": [],
   "source": [
    "%load_ext autoreload\n",
    "%autoreload 2\n",
    "import sys\n",
    "import pathlib\n",
    "main_path= pathlib.Path('..')\n",
    "print (main_path.resolve())\n",
    "sys.path.insert(0, str(main_path.resolve()))"
   ]
  },
  {
   "cell_type": "code",
   "execution_count": null,
   "id": "e4104077-ba7a-4dab-993f-f543de161e24",
   "metadata": {},
   "outputs": [],
   "source": [
    "import logging\n",
    "logger= logging.getLogger()\n",
    "logger.setLevel(logging.DEBUG)"
   ]
  },
  {
   "cell_type": "code",
   "execution_count": null,
   "id": "7d88d099-7dec-49ac-8df1-d6e3e4075ed4",
   "metadata": {},
   "outputs": [],
   "source": [
    "import IPython.core.display as display\n"
   ]
  },
  {
   "cell_type": "code",
   "execution_count": null,
   "id": "6a4c149b-8f2e-4b6e-835b-ff61463cad91",
   "metadata": {},
   "outputs": [],
   "source": [
    "from deepface import DeepFace\n",
    "from stash_ai.config import config, load_config\n",
    "from stash_ai.db import get_session\n",
    "from stash_ai.model import StashBox, Performer, PerformerStashBoxImage, Scene, Img, ImgFile, ImageAnalysis, DeepfaceFace\n",
    "from utils.performer import get_performer_stash_image, load_performer, get_unknown_performer_image\n",
    "from utils.scene import load_scene, create_or_update_scene_from_stash, extract_scene_images, decord_scene\n",
    "from utils.image import image_analysis, get_annotated_image_analysis_path, get_face_image_path, get_face_phash, hashes_are_similar\n",
    "from datetime import timedelta\n",
    "import random\n",
    "from PIL import Image\n",
    "from tqdm import tqdm \n",
    "from typing import List\n",
    "import pandas as pd"
   ]
  },
  {
   "cell_type": "code",
   "execution_count": null,
   "id": "8f99c8d0-1214-4419-9ae2-a51db1292509",
   "metadata": {},
   "outputs": [],
   "source": [
    "import stash_ai.config as stash_ai_config\n",
    "\n",
    "stash_ai_config.config_file= main_path.joinpath('config.json')\n",
    "print(stash_ai_config.config_file.resolve())\n",
    "load_config()\n",
    "session= get_session()\n"
   ]
  },
  {
   "cell_type": "code",
   "execution_count": null,
   "id": "9f633411-be3d-45f3-9905-9cc75669e7a0",
   "metadata": {},
   "outputs": [],
   "source": [
    "display.JSON(config.stash_interface.find_performers())"
   ]
  },
  {
   "cell_type": "code",
   "execution_count": null,
   "id": "52c1b64d-5714-43d7-92a3-825fdee86a40",
   "metadata": {},
   "outputs": [],
   "source": [
    "imgFile: ImgFile= session.get(ImgFile, 14270)\n",
    "\n",
    "#image_analysis: ImageAnalysis= session.get(ImageAnalysis, 1196)\n",
    "#print(image_analysis)\n",
    "print(imgFile)"
   ]
  },
  {
   "cell_type": "code",
   "execution_count": null,
   "id": "9171ef0e-fe8c-4149-af19-ddc1171c0bcd",
   "metadata": {},
   "outputs": [],
   "source": [
    "analysis= image_analysis(imgFile, \"mtcnn\", 30, session, True)"
   ]
  },
  {
   "cell_type": "code",
   "execution_count": null,
   "id": "de183204-f8d8-4e4e-bc45-30e5c1ea2528",
   "metadata": {},
   "outputs": [],
   "source": [
    "for face in analysis.faces:\n",
    "    print(face)\n",
    "    for other_face in analysis.faces:\n",
    "        if other_face.id == face.id:\n",
    "            continue\n",
    "        print(face.overlap(other_face))\n",
    "\n"
   ]
  },
  {
   "cell_type": "code",
   "execution_count": null,
   "id": "b3bbd26a-827e-41ec-9c95-1da552ac0b27",
   "metadata": {},
   "outputs": [],
   "source": [
    "im= Image.open(get_annotated_image_analysis_path(analysis, 0.7))\n",
    "display.display_png(im)"
   ]
  },
  {
   "cell_type": "code",
   "execution_count": null,
   "id": "c288122f-123c-42ad-9868-f77b8e17bcb9",
   "metadata": {},
   "outputs": [],
   "source": [
    "#ident_faces detector ssd expand 30 min_confidence face 0.9 hash tolerance 15 \n",
    "state_scene_stash= {'scene_id': 1392}\n",
    "radio_deepface_ident_detector ='ssd'\n",
    "number_deepface_ident_expand = 30\n",
    "number_deepface_ident_face_conf = 0.9\n",
    "number_ident_hash_tolerance = 15\n"
   ]
  },
  {
   "cell_type": "code",
   "execution_count": null,
   "id": "1c245dd1-e778-4eea-badc-4c31c4e6d871",
   "metadata": {},
   "outputs": [],
   "source": [
    "dataset_dir= config.data_dir.joinpath('dataset/performers')\n",
    "columns=[\"ImgFile Id\", \"Group\", \"Confidence\", \"Face\", \"Match Face\", \"Performer Name\", \"threshold\", \"distance\", \"Age\", \"Gender\", \"Gender conf.\", \"Race\", \"Race conf.\"]    \n",
    "data= []\n",
    "index= []"
   ]
  },
  {
   "cell_type": "code",
   "execution_count": null,
   "id": "ef069d2c-314f-40f4-96c7-34797a570ae9",
   "metadata": {},
   "outputs": [],
   "source": [
    "data= []\n",
    "index= []\n",
    "with get_session() as session:\n",
    "    scene: Scene= load_scene(state_scene_stash.get('scene_id'), session)\n",
    "    if scene is None:\n",
    "        raise gr.Error(f\"Scene {state_scene_stash.get('scene_id')} not found in DB!\")\n",
    "    faces: List[DeepfaceFace]= []\n",
    "    faces_hashes= []\n",
    "    img: Img            \n",
    "    for img in scene.images:\n",
    "        logger.debug(f\"detect_and_extract_faces Detection on {img}\")\n",
    "        if not img.original_file_exists():\n",
    "            logger.warning(f\"detect_and_extract_faces File not on disk : {img}\")\n",
    "            continue\n",
    "        analysis: ImageAnalysis= image_analysis(img.original_file(), radio_deepface_ident_detector, number_deepface_ident_expand, session)\n",
    "\n",
    "        face: DeepfaceFace\n",
    "        for face in analysis.faces:\n",
    "            hash= get_face_phash(face)\n",
    "            if face.confidence < number_deepface_ident_face_conf:\n",
    "                continue\n",
    "            for oh in faces_hashes:\n",
    "                if hashes_are_similar(hash, oh, number_ident_hash_tolerance):\n",
    "                    break\n",
    "            else:\n",
    "                faces.append(face)\n",
    "            faces_hashes.append(hash)\n",
    "        if len(faces) == 2:\n",
    "            break\n",
    "    \n",
    "    face: DeepfaceFace\n",
    "    for face in faces:\n",
    "        result= DeepFace.find(get_face_image_path(face), db_path=dataset_dir.resolve(), detector_backend=radio_deepface_ident_detector, expand_percentage=number_deepface_ident_expand)\n",
    "        df= result[0]\n",
    "        face_img= get_face_image_path(face)\n",
    "        for i in range(0, len(df)):\n",
    "            #print(f\"{i}: {df['identity'][i]} {df['threshold'][i]} {df['distance'][i]}\")\n",
    "            match_face_id= int(pathlib.Path(df['identity'][i]).stem)\n",
    "            match_face= session.get(DeepfaceFace, match_face_id)\n",
    "            if match_face is not None and match_face.performer is not None:\n",
    "                name= match_face.performer.name\n",
    "            else:\n",
    "                name= f\"unknown {match_face_id}\"\n",
    "            index.append(f\"{face.id}_{i}\")\n",
    "            data.append((face.image_analysis.image_file.id, \n",
    "                         face.group, \n",
    "                         face.confidence, \n",
    "                         f\"<img style='max-height: 75px;' src='/gradio_api/file={face_img}'/>\", \n",
    "                         f\"<img style='max-height: 75px;' src='/gradio_api/file={df['identity'][i]}'/>\",\n",
    "                         name,\n",
    "                         df['threshold'][i],\n",
    "                         df['distance'][i],\n",
    "                         face.age, \n",
    "                         face.gender, \n",
    "                         face.gender_confidence, \n",
    "                         face.race, \n",
    "                         face.race_confidence\n",
    "                         ))\n"
   ]
  },
  {
   "cell_type": "code",
   "execution_count": null,
   "id": "1d588610-128c-44b3-95d1-d4ef224f4ade",
   "metadata": {},
   "outputs": [],
   "source": [
    "df"
   ]
  },
  {
   "cell_type": "code",
   "execution_count": null,
   "id": "dd2336a5-6858-4252-a330-8db7a20a5577",
   "metadata": {},
   "outputs": [],
   "source": [
    "for i in range(0, len(df)):\n",
    "    print(f\"{i}: {df['identity'][i]} {df['threshold'][i]} {df['distance'][i]}\")\n"
   ]
  },
  {
   "cell_type": "code",
   "execution_count": null,
   "id": "019f9d0a-8fbe-466b-800d-43f214c1854d",
   "metadata": {},
   "outputs": [],
   "source": [
    " display.HTML(pd.DataFrame(data=data, index=index, columns=columns).to_html(escape=False))"
   ]
  },
  {
   "cell_type": "code",
   "execution_count": null,
   "id": "4928365c-d2fe-4900-adf6-1c2c14a4afd8",
   "metadata": {},
   "outputs": [],
   "source": [
    "p1='https://stash-ai-dev.lan.gatas.ca/gradio_api/file=/opt/stash/stash-ai-helper/local_assets/image_analysis/201_0.9.JPEG'\n",
    "p2='https://stash-ai-dev.lan.gatas.ca/gradio_api/file=/opt/stash/stash-ai-helper/local_assets/image_analysis/201/144.JPEG'\n",
    "display.HTML(\"\"\"\n",
    "<p>p1 <img style='max-height: 100px;' src='{p1}' /> p2 <img style='max-height: 100px;' src='{p2}' /> </p>\n",
    "\"\"\")"
   ]
  }
 ],
 "metadata": {
  "kernelspec": {
   "display_name": "Python 3 (ipykernel)",
   "language": "python",
   "name": "python3"
  },
  "language_info": {
   "codemirror_mode": {
    "name": "ipython",
    "version": 3
   },
   "file_extension": ".py",
   "mimetype": "text/x-python",
   "name": "python",
   "nbconvert_exporter": "python",
   "pygments_lexer": "ipython3",
   "version": "3.12.3"
  }
 },
 "nbformat": 4,
 "nbformat_minor": 5
}
